{
  "nbformat": 4,
  "nbformat_minor": 0,
  "metadata": {
    "colab": {
      "provenance": [],
      "authorship_tag": "ABX9TyM49SnsWoJ68j2lsKFG2hdJ",
      "include_colab_link": true
    },
    "kernelspec": {
      "name": "python3",
      "display_name": "Python 3"
    },
    "language_info": {
      "name": "python"
    }
  },
  "cells": [
    {
      "cell_type": "markdown",
      "metadata": {
        "id": "view-in-github",
        "colab_type": "text"
      },
      "source": [
        "<a href=\"https://colab.research.google.com/github/sai-2421/project_4/blob/main/ICM_py.ipynb\" target=\"_parent\"><img src=\"https://colab.research.google.com/assets/colab-badge.svg\" alt=\"Open In Colab\"/></a>"
      ]
    },
    {
      "cell_type": "code",
      "execution_count": null,
      "metadata": {
        "collapsed": true,
        "id": "OvVXvhBd7MVl"
      },
      "outputs": [],
      "source": [
        "!pip install streamlit pyngrok\n",
        "\n"
      ]
    },
    {
      "cell_type": "code",
      "source": [
        "# Run the Streamlit app and expose it via ngrok\n",
        "from pyngrok import ngrok"
      ],
      "metadata": {
        "id": "H-6525gfIx3j"
      },
      "execution_count": 2,
      "outputs": []
    },
    {
      "cell_type": "code",
      "source": [
        "!pip install streamlit streamlit-option-menu pyngrok\n"
      ],
      "metadata": {
        "id": "sacpZBM4Lqwt",
        "collapsed": true
      },
      "execution_count": null,
      "outputs": []
    },
    {
      "cell_type": "code",
      "source": [
        "!ngrok authtoken 2lNSHX18CGUMfvIF6K8BaLLGbUH_3L16UBv5AHV5kBvtHAF8H"
      ],
      "metadata": {
        "colab": {
          "base_uri": "https://localhost:8080/"
        },
        "id": "dgOHT81PI4rU",
        "outputId": "63d2f315-f137-46b5-ce57-f323b4a6151a"
      },
      "execution_count": 4,
      "outputs": [
        {
          "output_type": "stream",
          "name": "stdout",
          "text": [
            "Authtoken saved to configuration file: /root/.config/ngrok/ngrok.yml\n"
          ]
        }
      ]
    },
    {
      "cell_type": "code",
      "source": [
        "%%writefile icm.py\n",
        "\n",
        "\n",
        "import streamlit as st\n",
        "from streamlit_option_menu import option_menu\n",
        "import numpy as np\n",
        "import pickle\n",
        "\n",
        "# -------------------------------This is the configuration page for our Streamlit Application---------------------------\n",
        "st.set_page_config(\n",
        "    page_title=\"Industrial Copper Modeling\",\n",
        "    page_icon=\"🏨\",\n",
        "    layout=\"wide\"\n",
        ")\n",
        "\n",
        "# -------------------------------This is the sidebar in a Streamlit application, helps in navigation--------------------\n",
        "with st.sidebar:\n",
        "    selected = option_menu(\"Main Menu\", [\"About Project\", \"Selling Price Prediction\", \"Status Prediction\"],\n",
        "                           icons=[\"house\", \"gear\", \"gear\"],\n",
        "                           styles={\"nav-link\": {\"font\": \"sans serif\", \"font-size\": \"20px\", \"text-align\": \"centre\"},\n",
        "                                   \"nav-link-selected\": {\"font\": \"sans serif\", \"background-color\": \"#98FB98\"},\n",
        "                                   \"icon\": {\"font-size\": \"20px\"}\n",
        "                                   }\n",
        "                           )\n",
        "\n",
        "# -----------------------------------------------About Project Section--------------------------------------------------\n",
        "if selected == \"About Project\":\n",
        "    st.markdown(\"# :green[Industrial Copper Modeling]\")\n",
        "    st.markdown('<div style=\"height: 50px;\"></div>', unsafe_allow_html=True)\n",
        "    st.markdown(\"### :green[Technologies :] Python, Pandas, Numpy, Scikit-Learn, Streamlit, Python scripting, \"\n",
        "                \"Machine Learning, Data Preprocessing, Visualization, EDA, Model Building,  \"\n",
        "                \"Model Deployment\")\n",
        "    st.markdown(\"### :green[Overview :]Like many other industries, the copper sector struggles to deal with less complicated but distorted and noisy sales and pricing data.\"\n",
        "                \"Manual forecasting takes time and might not be precise. Making use of machine learning techniques can greatly enhance decision-making.\"\n",
        "                \"We will deal with problems like skewness and noisy data in this solution, and create a regression model to forecast selling rates and a classification algorithm to forecast the lead status (WON or LOST)\"\n",
        "                \"This prediction model will be based on past transactions.\")\n",
        "\n",
        "    # ------------------------------------------------Predictions Section---------------------------------------------------\n",
        "if selected == \"Selling Price Prediction\":\n",
        "    st.markdown(\"# :green[Predicting Results based on Trained Model]\")\n",
        "    # -----New Data inputs from the user for predicting the selling price-----\n",
        "    a1 = st.text_input(\"Quantity\")\n",
        "    b1 = st.text_input(\"Status\")\n",
        "    c1 = st.text_input(\"Item Type\")\n",
        "    d1 = st.text_input(\"Application\")\n",
        "    e1 = st.text_input(\"Thickness\")\n",
        "    f1 = st.text_input(\"Width\")\n",
        "    g1 = st.text_input(\"Country\")\n",
        "    h1 = st.text_input(\"Customer\")\n",
        "    i1 = st.text_input(\"Product Reference\")\n",
        "\n",
        "    with open(r\"/content/regression_model.pkl\", 'rb') as file_1:\n",
        "        regression_model = pickle.load(file_1)\n",
        "\n",
        "     # -----Submit Button for PREDICT RESALE PRICE-----\n",
        "    predict_button_1 = st.button(\"Predict Selling Price\")\n",
        "\n",
        "\n",
        "    if predict_button_1:\n",
        "\n",
        "        a1 = float(a1)\n",
        "        b1 = float(b1)\n",
        "        c1 = float(c1)\n",
        "        d1 = float(d1)\n",
        "        e1 = float(e1)\n",
        "        f1 = float(f1)\n",
        "        g1 = float(g1)\n",
        "        h1 = float(h1)\n",
        "        i1 = float(i1)\n",
        "\n",
        "        # -----Sending the user enter values for prediction to our model-----\n",
        "        new_sample_1 = np.array(\n",
        "                [[np.log(a1), b1, c1, d1, np.log(e1), f1, g1, h1, i1]])\n",
        "        new_pred_1 = regression_model.predict(new_sample_1)[0]\n",
        "\n",
        "        st.write('Result :Predicted resale price: ', np.exp(new_pred_1))\n",
        "\n",
        "if selected == \"Status Prediction\":\n",
        "    st.markdown(\"# :green[Predicting Results based on Trained Model]\")\n",
        "    # -----New Data inputs from the user for predicting the status-----\n",
        "    a2 = st.text_input(\"Quantity\")\n",
        "    b2 = st.text_input(\"Selling Price\")\n",
        "    c2 = st.text_input(\"Item Type\")\n",
        "    d2 = st.text_input(\"Application\")\n",
        "    e2 = st.text_input(\"Thickness\")\n",
        "    f2 = st.text_input(\"Width\")\n",
        "    g2 = st.text_input(\"Country\")\n",
        "    h2 = st.text_input(\"Customer\")\n",
        "    i2 = st.text_input(\"Product Reference\")\n",
        "\n",
        "    with open(r\"/content/classfier_model.pkl\", 'rb') as file_2:\n",
        "        classification_model = pickle.load(file_2)\n",
        "\n",
        "    # -----Submit Button for PREDICT RESALE PRICE-----\n",
        "    predict_button_2 = st.button(\"Predict Status\")\n",
        "\n",
        "    if predict_button_2:\n",
        "\n",
        "        a2 = float(a2)\n",
        "        b2 = float(b2)\n",
        "        c2 = float(c2)\n",
        "        d2 = float(d2)\n",
        "        e2 = float(e2)\n",
        "        f2 = float(f2)\n",
        "        g2 = float(drop)\n",
        "        h2 = float(h2)\n",
        "        i2 = float(i2)\n",
        "\n",
        "        # -----Sending the user enter values for prediction to our model-----\n",
        "        new_sample_2 = np.array(\n",
        "                [[np.log(a2), np.log(b2), c2, d2, np.log(e2), f2, g2, h2, i2]])\n",
        "        new_pred_2 = classification_model.predict(new_sample_2)\n",
        "\n",
        "        if new_pred_2 ==1:\n",
        "            st.write('Result:The Status is: Won')\n",
        "\n",
        "        else:\n",
        "            st.write('Result :The Status is: Lost')\n"
      ],
      "metadata": {
        "id": "-qXFdugQ7o9A",
        "colab": {
          "base_uri": "https://localhost:8080/"
        },
        "outputId": "c9148be6-a0af-4b61-e3bd-afb421f6e17a"
      },
      "execution_count": 8,
      "outputs": [
        {
          "output_type": "stream",
          "name": "stdout",
          "text": [
            "Overwriting icm.py\n"
          ]
        }
      ]
    },
    {
      "cell_type": "code",
      "source": [
        "# Expose the Streamlit app to the web using ngrok\n",
        "public_url = ngrok.connect(8501, \"http\")\n",
        "print(f\"Streamlit app is live at: {public_url}\")\n"
      ],
      "metadata": {
        "colab": {
          "base_uri": "https://localhost:8080/"
        },
        "id": "A4p5JSBJGulA",
        "outputId": "259cee3f-5bed-434e-9faf-3ab985422c2c"
      },
      "execution_count": 9,
      "outputs": [
        {
          "output_type": "stream",
          "name": "stdout",
          "text": [
            "Streamlit app is live at: NgrokTunnel: \"https://ac8f-34-16-162-212.ngrok-free.app\" -> \"http://localhost:8501\"\n"
          ]
        }
      ]
    },
    {
      "cell_type": "code",
      "source": [
        "# Start the Streamlit app\n",
        "!streamlit run icm.py"
      ],
      "metadata": {
        "id": "Sze0PkpkCrD3",
        "colab": {
          "base_uri": "https://localhost:8080/"
        },
        "outputId": "ac1ee2e4-e566-40c3-e113-282c866cc90b",
        "collapsed": true
      },
      "execution_count": 10,
      "outputs": [
        {
          "output_type": "stream",
          "name": "stdout",
          "text": [
            "\n",
            "Collecting usage statistics. To deactivate, set browser.gatherUsageStats to false.\n",
            "\u001b[0m\n",
            "\u001b[0m\n",
            "\u001b[34m\u001b[1m  You can now view your Streamlit app in your browser.\u001b[0m\n",
            "\u001b[0m\n",
            "\u001b[34m  Local URL: \u001b[0m\u001b[1mhttp://localhost:8501\u001b[0m\n",
            "\u001b[34m  Network URL: \u001b[0m\u001b[1mhttp://172.28.0.12:8501\u001b[0m\n",
            "\u001b[34m  External URL: \u001b[0m\u001b[1mhttp://34.16.162.212:8501\u001b[0m\n",
            "\u001b[0m\n",
            "/usr/local/lib/python3.10/dist-packages/sklearn/base.py:465: UserWarning: X does not have valid feature names, but RandomForestRegressor was fitted with feature names\n",
            "  warnings.warn(\n",
            "/usr/local/lib/python3.10/dist-packages/sklearn/base.py:465: UserWarning: X does not have valid feature names, but RandomForestClassifier was fitted with feature names\n",
            "  warnings.warn(\n",
            "/usr/local/lib/python3.10/dist-packages/sklearn/base.py:465: UserWarning: X does not have valid feature names, but RandomForestClassifier was fitted with feature names\n",
            "  warnings.warn(\n",
            "/usr/local/lib/python3.10/dist-packages/sklearn/base.py:465: UserWarning: X does not have valid feature names, but RandomForestClassifier was fitted with feature names\n",
            "  warnings.warn(\n",
            "/usr/local/lib/python3.10/dist-packages/sklearn/base.py:465: UserWarning: X does not have valid feature names, but RandomForestClassifier was fitted with feature names\n",
            "  warnings.warn(\n",
            "/usr/local/lib/python3.10/dist-packages/sklearn/base.py:465: UserWarning: X does not have valid feature names, but RandomForestClassifier was fitted with feature names\n",
            "  warnings.warn(\n",
            "/usr/local/lib/python3.10/dist-packages/sklearn/base.py:465: UserWarning: X does not have valid feature names, but RandomForestClassifier was fitted with feature names\n",
            "  warnings.warn(\n",
            "/content/icm.py:110: RuntimeWarning: divide by zero encountered in log\n",
            "  [[np.log(a2), np.log(b2), c2, d2, np.log(e2), f2, g2, h2, i2]])\n",
            "/usr/local/lib/python3.10/dist-packages/sklearn/base.py:465: UserWarning: X does not have valid feature names, but RandomForestClassifier was fitted with feature names\n",
            "  warnings.warn(\n",
            "2024-09-06 11:23:24.248 Uncaught app exception\n",
            "Traceback (most recent call last):\n",
            "  File \"/usr/local/lib/python3.10/dist-packages/streamlit/runtime/scriptrunner/exec_code.py\", line 88, in exec_func_with_error_handling\n",
            "    result = func()\n",
            "  File \"/usr/local/lib/python3.10/dist-packages/streamlit/runtime/scriptrunner/script_runner.py\", line 590, in code_to_exec\n",
            "    exec(code, module.__dict__)\n",
            "  File \"/content/icm.py\", line 111, in <module>\n",
            "    new_pred_2 = classification_model.predict(new_sample_2)\n",
            "  File \"/usr/local/lib/python3.10/dist-packages/sklearn/ensemble/_forest.py\", line 823, in predict\n",
            "    proba = self.predict_proba(X)\n",
            "  File \"/usr/local/lib/python3.10/dist-packages/sklearn/ensemble/_forest.py\", line 865, in predict_proba\n",
            "    X = self._validate_X_predict(X)\n",
            "  File \"/usr/local/lib/python3.10/dist-packages/sklearn/ensemble/_forest.py\", line 599, in _validate_X_predict\n",
            "    X = self._validate_data(X, dtype=DTYPE, accept_sparse=\"csr\", reset=False)\n",
            "  File \"/usr/local/lib/python3.10/dist-packages/sklearn/base.py\", line 605, in _validate_data\n",
            "    out = check_array(X, input_name=\"X\", **check_params)\n",
            "  File \"/usr/local/lib/python3.10/dist-packages/sklearn/utils/validation.py\", line 957, in check_array\n",
            "    _assert_all_finite(\n",
            "  File \"/usr/local/lib/python3.10/dist-packages/sklearn/utils/validation.py\", line 122, in _assert_all_finite\n",
            "    _assert_all_finite_element_wise(\n",
            "  File \"/usr/local/lib/python3.10/dist-packages/sklearn/utils/validation.py\", line 171, in _assert_all_finite_element_wise\n",
            "    raise ValueError(msg_err)\n",
            "ValueError: Input X contains infinity or a value too large for dtype('float32').\n",
            "/content/icm.py:110: RuntimeWarning: divide by zero encountered in log\n",
            "  [[np.log(a2), np.log(b2), c2, d2, np.log(e2), f2, g2, h2, i2]])\n",
            "/usr/local/lib/python3.10/dist-packages/sklearn/base.py:465: UserWarning: X does not have valid feature names, but RandomForestClassifier was fitted with feature names\n",
            "  warnings.warn(\n",
            "2024-09-06 11:23:25.016 Uncaught app exception\n",
            "Traceback (most recent call last):\n",
            "  File \"/usr/local/lib/python3.10/dist-packages/streamlit/runtime/scriptrunner/exec_code.py\", line 88, in exec_func_with_error_handling\n",
            "    result = func()\n",
            "  File \"/usr/local/lib/python3.10/dist-packages/streamlit/runtime/scriptrunner/script_runner.py\", line 590, in code_to_exec\n",
            "    exec(code, module.__dict__)\n",
            "  File \"/content/icm.py\", line 111, in <module>\n",
            "    new_pred_2 = classification_model.predict(new_sample_2)\n",
            "  File \"/usr/local/lib/python3.10/dist-packages/sklearn/ensemble/_forest.py\", line 823, in predict\n",
            "    proba = self.predict_proba(X)\n",
            "  File \"/usr/local/lib/python3.10/dist-packages/sklearn/ensemble/_forest.py\", line 865, in predict_proba\n",
            "    X = self._validate_X_predict(X)\n",
            "  File \"/usr/local/lib/python3.10/dist-packages/sklearn/ensemble/_forest.py\", line 599, in _validate_X_predict\n",
            "    X = self._validate_data(X, dtype=DTYPE, accept_sparse=\"csr\", reset=False)\n",
            "  File \"/usr/local/lib/python3.10/dist-packages/sklearn/base.py\", line 605, in _validate_data\n",
            "    out = check_array(X, input_name=\"X\", **check_params)\n",
            "  File \"/usr/local/lib/python3.10/dist-packages/sklearn/utils/validation.py\", line 957, in check_array\n",
            "    _assert_all_finite(\n",
            "  File \"/usr/local/lib/python3.10/dist-packages/sklearn/utils/validation.py\", line 122, in _assert_all_finite\n",
            "    _assert_all_finite_element_wise(\n",
            "  File \"/usr/local/lib/python3.10/dist-packages/sklearn/utils/validation.py\", line 171, in _assert_all_finite_element_wise\n",
            "    raise ValueError(msg_err)\n",
            "ValueError: Input X contains infinity or a value too large for dtype('float32').\n",
            "/usr/local/lib/python3.10/dist-packages/sklearn/base.py:465: UserWarning: X does not have valid feature names, but RandomForestClassifier was fitted with feature names\n",
            "  warnings.warn(\n",
            "/usr/local/lib/python3.10/dist-packages/sklearn/base.py:465: UserWarning: X does not have valid feature names, but RandomForestClassifier was fitted with feature names\n",
            "  warnings.warn(\n",
            "/usr/local/lib/python3.10/dist-packages/sklearn/base.py:465: UserWarning: X does not have valid feature names, but RandomForestClassifier was fitted with feature names\n",
            "  warnings.warn(\n",
            "/usr/local/lib/python3.10/dist-packages/sklearn/base.py:465: UserWarning: X does not have valid feature names, but RandomForestClassifier was fitted with feature names\n",
            "  warnings.warn(\n",
            "/usr/local/lib/python3.10/dist-packages/sklearn/base.py:465: UserWarning: X does not have valid feature names, but RandomForestClassifier was fitted with feature names\n",
            "  warnings.warn(\n",
            "\u001b[34m  Stopping...\u001b[0m\n",
            "^C\n"
          ]
        }
      ]
    }
  ]
}